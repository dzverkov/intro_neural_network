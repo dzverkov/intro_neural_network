{
 "cells": [
  {
   "cell_type": "code",
   "execution_count": 62,
   "metadata": {
    "scrolled": true
   },
   "outputs": [
    {
     "data": {
      "image/png": "[encoded data removed]",
      "text/plain": [
       "<Figure size 432x288 with 1 Axes>"
      ]
     },
     "metadata": {
      "needs_background": "light"
     },
     "output_type": "display_data"
    }
   ],
   "source": [
    "'''\n",
    "Исходный код к уроку 1.\n",
    "Построение двухслойной нейронный сети для классификации цветков ириса\n",
    "'''\n",
    "\n",
    "import numpy as np\n",
    "import pandas as pd\n",
    "#import seaborn as sns\n",
    "import matplotlib.pyplot as plt\n",
    "\n",
    "import warnings\n",
    "warnings.simplefilter(action='ignore', category=FutureWarning)\n",
    "\n",
    "# sklearn здесь только, чтобы разделить выборку на тренировочную и тестовую\n",
    "from sklearn.model_selection import train_test_split\n",
    "\n",
    "\n",
    "### Шаг 1. Определение функций, которые понадобяться для обучения\n",
    "# преобразование массива в бинарный вид результатов\n",
    "def to_one_hot(Y):\n",
    "    n_col = np.amax(Y) + 1\n",
    "    binarized = np.zeros((len(Y), n_col))\n",
    "    for i in range(len(Y)):\n",
    "        binarized[i, Y[i]] = 1.\n",
    "    return binarized\n",
    "\n",
    "# преобразование массива в необходимый вид\n",
    "def from_one_hot(Y):\n",
    "    arr = np.zeros((len(Y), 1))\n",
    "\n",
    "    for i in range(len(Y)):\n",
    "        l = layer2[i]\n",
    "        for j in range(len(l)):\n",
    "            if(l[j] == 1):\n",
    "                arr[i] = j+1\n",
    "    return arr\n",
    "\n",
    "# сигмоида и ее производная\n",
    "def sigmoid(x):\n",
    "    return 1/(1+np.exp(-x))\n",
    "\n",
    "def sigmoid_deriv(x):\n",
    "    return sigmoid(x)*(1 - sigmoid(x))\n",
    "\n",
    "# нормализация массива\n",
    "def normalize(X, axis=-1, order=2):\n",
    "    l2 = np.atleast_1d(np.linalg.norm(X, order, axis))\n",
    "    l2[l2 == 0] = 1\n",
    "    return X / np.expand_dims(l2, axis)\n",
    "\n",
    "def prepare_data():\n",
    "    ### Шаг 2. Подготовка тренировочных данных\n",
    "    # получения данных из csv файла. укажите здесь путь к файлу Iris.csv\n",
    "    iris_data = pd.read_csv(\"Iris.csv\")\n",
    "    # print(iris_data.head()) # расскоментируйте, чтобы посмотреть структуру данных\n",
    "\n",
    "    # репрезентация данных в виде графиков\n",
    "    #g = sns.pairplot(iris_data.drop(\"Id\", axis=1), hue=\"Species\")\n",
    "    #plt.show() # расскоментируйте, чтобы посмотреть\n",
    "\n",
    "    # замена текстовых значений на цифровые\n",
    "    iris_data['Species'].replace(['Iris-setosa', 'Iris-virginica', 'Iris-versicolor'], [0, 1, 2], inplace=True)\n",
    "\n",
    "    # формирование входных данных\n",
    "    columns = ['SepalLengthCm', 'SepalWidthCm', 'PetalLengthCm', 'PetalWidthCm']\n",
    "    x = pd.DataFrame(iris_data, columns=columns)\n",
    "    x = normalize(x.as_matrix())\n",
    "\n",
    "    # формирование выходных данных(результатов)\n",
    "    columns = ['Species']\n",
    "    y = pd.DataFrame(iris_data, columns=columns)\n",
    "    y = y.as_matrix()\n",
    "    y = y.flatten()\n",
    "    y = to_one_hot(y)\n",
    "\n",
    "    # Разделение данных на тренировочные и тестовые\n",
    "    return train_test_split(x, y, test_size=0.33)\n",
    "\n",
    "\n",
    "def train(X_train, y_train, n=0.1, r=100000):\n",
    "    ### Шаг 3. Обученние нейронной сети\n",
    "    # присваевание случайных весов\n",
    "    np.random.seed(422)\n",
    "    w0 = 2*np.random.random((4, 5)) - 1 # для входного слоя   - 4 входа, 3 выхода\n",
    "    w1 = 2*np.random.random((5, 3)) - 1 # для внутреннего слоя - 5 входов, 3 выхода\n",
    "\n",
    "    # скорость обучения (learning rate)\n",
    "    #print(n)\n",
    "\n",
    "    # массив для ошибок, чтобы потом построить график\n",
    "    errors = []\n",
    "\n",
    "    # процесс обучения\n",
    "    for i in range(r):\n",
    "\n",
    "        # прямое распространение(feed forward)\n",
    "        layer0 = X_train\n",
    "        layer1 = sigmoid(np.dot(layer0, w0))\n",
    "        layer2 = sigmoid(np.dot(layer1, w1))\n",
    "\n",
    "        # обратное распространение(back propagation) с использованием градиентного спуска\n",
    "        layer2_error = y_train - layer2\n",
    "        layer2_delta = layer2_error * sigmoid_deriv(layer2)\n",
    "\n",
    "        layer1_error = layer2_delta.dot(w1.T)\n",
    "        layer1_delta = layer1_error * sigmoid_deriv(layer1)\n",
    "\n",
    "        w1 += layer1.T.dot(layer2_delta) * n\n",
    "        w0 += layer0.T.dot(layer1_delta) * n\n",
    "\n",
    "        error = np.mean(np.abs(layer2_error))\n",
    "        errors.append(error)\n",
    "        accuracy = (1 - error) * 100\n",
    "    return accuracy\n",
    "    \n",
    "\n",
    "# Подготовка и разделение данных на тренировочные и тестовые\n",
    "X_train, X_test, y_train, y_test =  prepare_data()\n",
    "   \n",
    "### Шаг 3. Обученние нейронной сети\n",
    "acc = []\n",
    "# Изменение точности\n",
    "nl = [1, 0.4, 0.25, 0.1, 0.05, 0.02, 0.01]\n",
    "for nc in nl:\n",
    "    accuracy = train(X_train, y_train, n=nc, r=100000)\n",
    "    acc.append(accuracy)    \n",
    "    #print(\"Точность нейронной сети \" + str(round(accuracy,2)) + \"%\")\n",
    "\n",
    "plt.plot(acc,  nl)\n",
    "plt.xlabel('Точность нейронной сети')\n",
    "plt.ylabel('Параметр скорости обучения')\n",
    "plt.show()"
   ]
  },
  {
   "cell_type": "code",
   "execution_count": 60,
   "metadata": {},
   "outputs": [
    {
     "data": {
      "image/png": "[encoded data removed]",
      "text/plain": [
       "<Figure size 432x288 with 1 Axes>"
      ]
     },
     "metadata": {
      "needs_background": "light"
     },
     "output_type": "display_data"
    }
   ],
   "source": [
    "acc = []\n",
    "# Изменение количества итераций\n",
    "rl = [10**r for r in range(5)] \n",
    "for rc in rl:\n",
    "    accuracy = train(X_train, y_train, n=0.1, r=rc)\n",
    "    acc.append(accuracy)    \n",
    "    #print(\"Точность нейронной сети \" + str(round(accuracy,2)) + \"%\")\n",
    "\n",
    "plt.plot(acc,  rl)\n",
    "plt.xlabel('Точность нейронной сети')\n",
    "plt.ylabel('Количество итераций обучения')\n",
    "plt.show()"
   ]
  },
  {
   "cell_type": "markdown",
   "metadata": {},
   "source": [
    "Эксперименты с шагом обучения и количеством итераций, показывают очевдный вывод, что чем меньше шаг и больше количество итераций, тем лучше точность при обучении нейронной сети. При этом можно подобрать оптимальные параметры, при которых точность будет падать незначительно, при том мы существенно можем сэкономить на вычислительных ресурсах."
   ]
  },
  {
   "cell_type": "code",
   "execution_count": null,
   "metadata": {},
   "outputs": [],
   "source": []
  }
 ],
 "metadata": {
  "kernelspec": {
   "display_name": "Python 3",
   "language": "python",
   "name": "python3"
  },
  "language_info": {
   "codemirror_mode": {
    "name": "ipython",
    "version": 3
   },
   "file_extension": ".py",
   "mimetype": "text/x-python",
   "name": "python",
   "nbconvert_exporter": "python",
   "pygments_lexer": "ipython3",
   "version": "3.7.4"
  }
 },
 "nbformat": 4,
 "nbformat_minor": 2
}
